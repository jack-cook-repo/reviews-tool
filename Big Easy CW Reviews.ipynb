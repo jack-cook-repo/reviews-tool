{
 "cells": [
  {
   "cell_type": "code",
   "execution_count": 129,
   "id": "5b740cc0",
   "metadata": {
    "scrolled": true
   },
   "outputs": [
    {
     "name": "stdout",
     "output_type": "stream",
     "text": [
      "Collecting en-core-web-lg==3.1.0\n",
      "  Downloading https://github.com/explosion/spacy-models/releases/download/en_core_web_lg-3.1.0/en_core_web_lg-3.1.0-py3-none-any.whl (777.1 MB)\n",
      "\u001b[K     |████████████████████████████████| 777.1 MB 12 kB/s  eta 0:00:015   |▌                               | 12.3 MB 6.9 MB/s eta 0:01:51     |▋                               | 14.1 MB 6.9 MB/s eta 0:01:51     |▊                               | 18.3 MB 8.0 MB/s eta 0:01:35     |█                               | 24.6 MB 5.9 MB/s eta 0:02:08     |█                               | 26.5 MB 5.9 MB/s eta 0:02:08     |█▍                              | 34.8 MB 9.0 MB/s eta 0:01:23     |█▌                              | 37.2 MB 9.0 MB/s eta 0:01:22     |█▋                              | 38.6 MB 9.6 MB/s eta 0:01:17     |██▉                             | 68.8 MB 6.7 MB/s eta 0:01:47     |███                             | 71.3 MB 6.7 MB/s eta 0:01:46     |███▎                            | 79.4 MB 6.3 MB/s eta 0:01:52     |███▉                            | 92.3 MB 10.5 MB/s eta 0:01:06     |████                            | 96.8 MB 10.5 MB/s eta 0:01:05     |████▏                           | 100.0 MB 10.7 MB/s eta 0:01:04     |█████▊                          | 137.6 MB 6.9 MB/s eta 0:01:34     |██████▊                         | 164.1 MB 10.4 MB/s eta 0:01:00     |███████▉                        | 190.4 MB 9.0 MB/s eta 0:01:06     |████████▋                       | 208.9 MB 9.0 MB/s eta 0:01:03     |█████████▏                      | 223.2 MB 9.9 MB/s eta 0:00:56     |█████████▋                      | 234.4 MB 9.2 MB/s eta 0:00:59     |█████████▊                      | 236.8 MB 9.2 MB/s eta 0:00:59     |██████████▌                     | 254.4 MB 7.0 MB/s eta 0:01:15     |███████████▏                    | 271.0 MB 9.0 MB/s eta 0:00:57     |████████████▊                   | 309.5 MB 8.8 MB/s eta 0:00:54     |█████████████▊                  | 332.0 MB 6.7 MB/s eta 0:01:07     |██████████████                  | 338.4 MB 6.4 MB/s eta 0:01:09     |███████████████▋                | 377.8 MB 8.3 MB/s eta 0:00:48     |████████████████                | 387.2 MB 8.8 MB/s eta 0:00:45     |████████████████▍               | 398.6 MB 6.9 MB/s eta 0:00:55     |████████████████▌               | 400.7 MB 3.6 MB/s eta 0:01:44     |█████████████████▍              | 422.5 MB 9.4 MB/s eta 0:00:38     |██████████████████              | 434.9 MB 8.0 MB/s eta 0:00:43     |███████████████████▏            | 465.6 MB 8.3 MB/s eta 0:00:38     |███████████████████▌            | 473.7 MB 7.2 MB/s eta 0:00:42     |███████████████████▌            | 474.2 MB 7.2 MB/s eta 0:00:42     |███████████████████▋            | 476.6 MB 8.0 MB/s eta 0:00:38     |███████████████████▉            | 480.8 MB 8.0 MB/s eta 0:00:38     |████████████████████            | 483.2 MB 8.0 MB/s eta 0:00:37     |████████████████████▊           | 503.0 MB 9.9 MB/s eta 0:00:28     |█████████████████████           | 508.8 MB 13.0 MB/s eta 0:00:21     |██████████████████████▌         | 546.3 MB 7.5 MB/s eta 0:00:31     |███████████████████████         | 560.0 MB 9.1 MB/s eta 0:00:24     |████████████████████████▎       | 588.4 MB 10.4 MB/s eta 0:00:19     |█████████████████████████       | 609.4 MB 6.0 MB/s eta 0:00:28     |█████████████████████████▉      | 626.5 MB 8.7 MB/s eta 0:00:18     |██████████████████████████▎     | 637.4 MB 6.3 MB/s eta 0:00:23     |██████████████████████████▉     | 650.6 MB 9.5 MB/s eta 0:00:14     |████████████████████████████    | 681.5 MB 9.6 MB/s eta 0:00:10     |████████████████████████████    | 682.4 MB 9.6 MB/s eta 0:00:10     |█████████████████████████████   | 702.2 MB 2.5 MB/s eta 0:00:31     |█████████████████████████████▏  | 707.9 MB 13.8 MB/s eta 0:00:06     |██████████████████████████████▍ | 737.7 MB 8.6 MB/s eta 0:00:05     |██████████████████████████████▌ | 739.9 MB 6.2 MB/s eta 0:00:07     |██████████████████████████████▋ | 744.1 MB 6.2 MB/s eta 0:00:06     |████████████████████████████████| 777.0 MB 9.4 MB/s eta 0:00:01\n",
      "\u001b[?25hRequirement already satisfied: spacy<3.2.0,>=3.1.0 in ./venv/lib/python3.7/site-packages (from en-core-web-lg==3.1.0) (3.1.1)\n",
      "Requirement already satisfied: pathy>=0.3.5 in ./venv/lib/python3.7/site-packages (from spacy<3.2.0,>=3.1.0->en-core-web-lg==3.1.0) (0.6.0)\n",
      "Requirement already satisfied: pydantic!=1.8,!=1.8.1,<1.9.0,>=1.7.4 in ./venv/lib/python3.7/site-packages (from spacy<3.2.0,>=3.1.0->en-core-web-lg==3.1.0) (1.8.2)\n",
      "Requirement already satisfied: numpy>=1.15.0 in ./venv/lib/python3.7/site-packages (from spacy<3.2.0,>=3.1.0->en-core-web-lg==3.1.0) (1.21.1)\n",
      "Requirement already satisfied: blis<0.8.0,>=0.4.0 in ./venv/lib/python3.7/site-packages (from spacy<3.2.0,>=3.1.0->en-core-web-lg==3.1.0) (0.7.4)\n",
      "Requirement already satisfied: thinc<8.1.0,>=8.0.8 in ./venv/lib/python3.7/site-packages (from spacy<3.2.0,>=3.1.0->en-core-web-lg==3.1.0) (8.0.8)\n",
      "Requirement already satisfied: spacy-legacy<3.1.0,>=3.0.7 in ./venv/lib/python3.7/site-packages (from spacy<3.2.0,>=3.1.0->en-core-web-lg==3.1.0) (3.0.8)\n",
      "Requirement already satisfied: cymem<2.1.0,>=2.0.2 in ./venv/lib/python3.7/site-packages (from spacy<3.2.0,>=3.1.0->en-core-web-lg==3.1.0) (2.0.5)\n",
      "Requirement already satisfied: srsly<3.0.0,>=2.4.1 in ./venv/lib/python3.7/site-packages (from spacy<3.2.0,>=3.1.0->en-core-web-lg==3.1.0) (2.4.1)\n",
      "Requirement already satisfied: murmurhash<1.1.0,>=0.28.0 in ./venv/lib/python3.7/site-packages (from spacy<3.2.0,>=3.1.0->en-core-web-lg==3.1.0) (1.0.5)\n",
      "Requirement already satisfied: packaging>=20.0 in ./venv/lib/python3.7/site-packages (from spacy<3.2.0,>=3.1.0->en-core-web-lg==3.1.0) (21.0)\n",
      "Requirement already satisfied: preshed<3.1.0,>=3.0.2 in ./venv/lib/python3.7/site-packages (from spacy<3.2.0,>=3.1.0->en-core-web-lg==3.1.0) (3.0.5)\n",
      "Requirement already satisfied: requests<3.0.0,>=2.13.0 in ./venv/lib/python3.7/site-packages (from spacy<3.2.0,>=3.1.0->en-core-web-lg==3.1.0) (2.26.0)\n",
      "Requirement already satisfied: tqdm<5.0.0,>=4.38.0 in ./venv/lib/python3.7/site-packages (from spacy<3.2.0,>=3.1.0->en-core-web-lg==3.1.0) (4.61.2)\n",
      "Requirement already satisfied: wasabi<1.1.0,>=0.8.1 in ./venv/lib/python3.7/site-packages (from spacy<3.2.0,>=3.1.0->en-core-web-lg==3.1.0) (0.8.2)\n",
      "Requirement already satisfied: typing-extensions<4.0.0.0,>=3.7.4 in ./venv/lib/python3.7/site-packages (from spacy<3.2.0,>=3.1.0->en-core-web-lg==3.1.0) (3.10.0.0)\n",
      "Requirement already satisfied: catalogue<2.1.0,>=2.0.4 in ./venv/lib/python3.7/site-packages (from spacy<3.2.0,>=3.1.0->en-core-web-lg==3.1.0) (2.0.4)\n",
      "Requirement already satisfied: typer<0.4.0,>=0.3.0 in ./venv/lib/python3.7/site-packages (from spacy<3.2.0,>=3.1.0->en-core-web-lg==3.1.0) (0.3.2)\n",
      "Requirement already satisfied: setuptools in ./venv/lib/python3.7/site-packages (from spacy<3.2.0,>=3.1.0->en-core-web-lg==3.1.0) (57.4.0)\n",
      "Requirement already satisfied: jinja2 in ./venv/lib/python3.7/site-packages (from spacy<3.2.0,>=3.1.0->en-core-web-lg==3.1.0) (3.0.1)\n",
      "Requirement already satisfied: zipp>=0.5 in ./venv/lib/python3.7/site-packages (from catalogue<2.1.0,>=2.0.4->spacy<3.2.0,>=3.1.0->en-core-web-lg==3.1.0) (3.5.0)\n",
      "Requirement already satisfied: pyparsing>=2.0.2 in ./venv/lib/python3.7/site-packages (from packaging>=20.0->spacy<3.2.0,>=3.1.0->en-core-web-lg==3.1.0) (2.4.7)\n",
      "Requirement already satisfied: smart-open<6.0.0,>=5.0.0 in ./venv/lib/python3.7/site-packages (from pathy>=0.3.5->spacy<3.2.0,>=3.1.0->en-core-web-lg==3.1.0) (5.1.0)\n",
      "Requirement already satisfied: idna<4,>=2.5 in ./venv/lib/python3.7/site-packages (from requests<3.0.0,>=2.13.0->spacy<3.2.0,>=3.1.0->en-core-web-lg==3.1.0) (3.2)\n",
      "Requirement already satisfied: charset-normalizer~=2.0.0 in ./venv/lib/python3.7/site-packages (from requests<3.0.0,>=2.13.0->spacy<3.2.0,>=3.1.0->en-core-web-lg==3.1.0) (2.0.3)\n",
      "Requirement already satisfied: certifi>=2017.4.17 in ./venv/lib/python3.7/site-packages (from requests<3.0.0,>=2.13.0->spacy<3.2.0,>=3.1.0->en-core-web-lg==3.1.0) (2021.5.30)\n",
      "Requirement already satisfied: urllib3<1.27,>=1.21.1 in ./venv/lib/python3.7/site-packages (from requests<3.0.0,>=2.13.0->spacy<3.2.0,>=3.1.0->en-core-web-lg==3.1.0) (1.26.6)\n",
      "Requirement already satisfied: click<7.2.0,>=7.1.1 in ./venv/lib/python3.7/site-packages (from typer<0.4.0,>=0.3.0->spacy<3.2.0,>=3.1.0->en-core-web-lg==3.1.0) (7.1.2)\n"
     ]
    },
    {
     "name": "stdout",
     "output_type": "stream",
     "text": [
      "Requirement already satisfied: MarkupSafe>=2.0 in ./venv/lib/python3.7/site-packages (from jinja2->spacy<3.2.0,>=3.1.0->en-core-web-lg==3.1.0) (2.0.1)\n",
      "Installing collected packages: en-core-web-lg\n",
      "Successfully installed en-core-web-lg-3.1.0\n",
      "\u001b[38;5;2m✔ Download and installation successful\u001b[0m\n",
      "You can now load the package via spacy.load('en_core_web_lg')\n"
     ]
    }
   ],
   "source": [
    "!python -m spacy download en_core_web_lg"
   ]
  },
  {
   "cell_type": "code",
   "execution_count": 130,
   "id": "03316dc1",
   "metadata": {},
   "outputs": [],
   "source": [
    "import numpy as np\n",
    "import pandas as pd\n",
    "import selenium as se\n",
    "import seaborn as sns\n",
    "import spacy\n",
    "import openpyxl\n",
    "import nltk\n",
    "import ssl\n",
    "import re\n",
    "import sklearn\n",
    "import gensim\n",
    "\n",
    "from bs4 import BeautifulSoup as bs\n",
    "from matplotlib import pyplot as plt\n",
    "from datetime import datetime, timedelta\n",
    "\n",
    "# NLP stuff\n",
    "import gensim.corpora as corpora\n",
    "from gensim.utils import simple_preprocess\n",
    "from gensim.models import CoherenceModel\n",
    "from spacy.pipeline import Lemmatizer\n",
    "from spacy.lang.en.stop_words import STOP_WORDS\n",
    "import en_core_web_lg\n",
    "\n",
    "from tqdm import tqdm_notebook as tqdm\n",
    "from pprint import pprint"
   ]
  },
  {
   "cell_type": "code",
   "execution_count": 58,
   "id": "da6dabe2",
   "metadata": {},
   "outputs": [
    {
     "data": {
      "text/html": [
       "<div>\n",
       "<style scoped>\n",
       "    .dataframe tbody tr th:only-of-type {\n",
       "        vertical-align: middle;\n",
       "    }\n",
       "\n",
       "    .dataframe tbody tr th {\n",
       "        vertical-align: top;\n",
       "    }\n",
       "\n",
       "    .dataframe thead th {\n",
       "        text-align: right;\n",
       "    }\n",
       "</style>\n",
       "<table border=\"1\" class=\"dataframe\">\n",
       "  <thead>\n",
       "    <tr style=\"text-align: right;\">\n",
       "      <th></th>\n",
       "      <th>author</th>\n",
       "      <th>reviewBody</th>\n",
       "      <th>reviewRating</th>\n",
       "      <th>ratingMaxvalue</th>\n",
       "      <th>reviewTags</th>\n",
       "      <th>dateCreated</th>\n",
       "      <th>images</th>\n",
       "      <th>reviewUrl</th>\n",
       "      <th>reviewSource</th>\n",
       "      <th>orginalText</th>\n",
       "      <th>name</th>\n",
       "      <th>reviewCount</th>\n",
       "      <th>aggregateRating</th>\n",
       "      <th>address</th>\n",
       "      <th>place_id</th>\n",
       "      <th>input</th>\n",
       "      <th>businessUrl</th>\n",
       "    </tr>\n",
       "  </thead>\n",
       "  <tbody>\n",
       "    <tr>\n",
       "      <th>0</th>\n",
       "      <td>Jez Beadle</td>\n",
       "      <td>NaN</td>\n",
       "      <td>5.0</td>\n",
       "      <td>5.0</td>\n",
       "      <td>NaN</td>\n",
       "      <td>2 weeks ago</td>\n",
       "      <td>NaN</td>\n",
       "      <td>https://www.google.com/maps/contrib/1180472233...</td>\n",
       "      <td>www.google.com</td>\n",
       "      <td>NaN</td>\n",
       "      <td>Big Easy Canary Wharf</td>\n",
       "      <td>3,511</td>\n",
       "      <td>3.9</td>\n",
       "      <td>Crossrail Pl, London, United Kingdom</td>\n",
       "      <td>ChIJj5YwFrcCdkgRZ7QcD-FJ2Zo</td>\n",
       "      <td>https://www.google.com/maps/place/Big+Easy+Can...</td>\n",
       "      <td>https://www.google.com/maps/place/?q=place_id:...</td>\n",
       "    </tr>\n",
       "    <tr>\n",
       "      <th>1</th>\n",
       "      <td>Baemde 12</td>\n",
       "      <td>Toda la comida muy buena.....servicio pesimo</td>\n",
       "      <td>3.0</td>\n",
       "      <td>5.0</td>\n",
       "      <td>NaN</td>\n",
       "      <td>a week ago</td>\n",
       "      <td>NaN</td>\n",
       "      <td>https://www.google.com/maps/contrib/1140921831...</td>\n",
       "      <td>www.google.com</td>\n",
       "      <td>NaN</td>\n",
       "      <td>Big Easy Canary Wharf</td>\n",
       "      <td>3,511</td>\n",
       "      <td>3.9</td>\n",
       "      <td>Crossrail Pl, London, United Kingdom</td>\n",
       "      <td>ChIJj5YwFrcCdkgRZ7QcD-FJ2Zo</td>\n",
       "      <td>https://www.google.com/maps/place/Big+Easy+Can...</td>\n",
       "      <td>https://www.google.com/maps/place/?q=place_id:...</td>\n",
       "    </tr>\n",
       "    <tr>\n",
       "      <th>2</th>\n",
       "      <td>Will Bruce</td>\n",
       "      <td>NaN</td>\n",
       "      <td>5.0</td>\n",
       "      <td>5.0</td>\n",
       "      <td>NaN</td>\n",
       "      <td>6 days ago</td>\n",
       "      <td>NaN</td>\n",
       "      <td>https://www.google.com/maps/contrib/1071015506...</td>\n",
       "      <td>www.google.com</td>\n",
       "      <td>NaN</td>\n",
       "      <td>Big Easy Canary Wharf</td>\n",
       "      <td>3,511</td>\n",
       "      <td>3.9</td>\n",
       "      <td>Crossrail Pl, London, United Kingdom</td>\n",
       "      <td>ChIJj5YwFrcCdkgRZ7QcD-FJ2Zo</td>\n",
       "      <td>https://www.google.com/maps/place/Big+Easy+Can...</td>\n",
       "      <td>https://www.google.com/maps/place/?q=place_id:...</td>\n",
       "    </tr>\n",
       "    <tr>\n",
       "      <th>3</th>\n",
       "      <td>Kat Reyes</td>\n",
       "      <td>Food was lovely but service was bad. We waited...</td>\n",
       "      <td>3.0</td>\n",
       "      <td>5.0</td>\n",
       "      <td>NaN</td>\n",
       "      <td>6 days ago</td>\n",
       "      <td>NaN</td>\n",
       "      <td>https://www.google.com/maps/contrib/1141925582...</td>\n",
       "      <td>www.google.com</td>\n",
       "      <td>NaN</td>\n",
       "      <td>Big Easy Canary Wharf</td>\n",
       "      <td>3,511</td>\n",
       "      <td>3.9</td>\n",
       "      <td>Crossrail Pl, London, United Kingdom</td>\n",
       "      <td>ChIJj5YwFrcCdkgRZ7QcD-FJ2Zo</td>\n",
       "      <td>https://www.google.com/maps/place/Big+Easy+Can...</td>\n",
       "      <td>https://www.google.com/maps/place/?q=place_id:...</td>\n",
       "    </tr>\n",
       "    <tr>\n",
       "      <th>4</th>\n",
       "      <td>Gobi Sittampalam</td>\n",
       "      <td>Very tasty seafood platter.. Drinks were decen...</td>\n",
       "      <td>5.0</td>\n",
       "      <td>5.0</td>\n",
       "      <td>NaN</td>\n",
       "      <td>a week ago</td>\n",
       "      <td>NaN</td>\n",
       "      <td>https://www.google.com/maps/contrib/1082484853...</td>\n",
       "      <td>www.google.com</td>\n",
       "      <td>NaN</td>\n",
       "      <td>Big Easy Canary Wharf</td>\n",
       "      <td>3,511</td>\n",
       "      <td>3.9</td>\n",
       "      <td>Crossrail Pl, London, United Kingdom</td>\n",
       "      <td>ChIJj5YwFrcCdkgRZ7QcD-FJ2Zo</td>\n",
       "      <td>https://www.google.com/maps/place/Big+Easy+Can...</td>\n",
       "      <td>https://www.google.com/maps/place/?q=place_id:...</td>\n",
       "    </tr>\n",
       "  </tbody>\n",
       "</table>\n",
       "</div>"
      ],
      "text/plain": [
       "             author                                         reviewBody  \\\n",
       "0        Jez Beadle                                                NaN   \n",
       "1         Baemde 12       Toda la comida muy buena.....servicio pesimo   \n",
       "2        Will Bruce                                                NaN   \n",
       "3         Kat Reyes  Food was lovely but service was bad. We waited...   \n",
       "4  Gobi Sittampalam  Very tasty seafood platter.. Drinks were decen...   \n",
       "\n",
       "   reviewRating  ratingMaxvalue  reviewTags  dateCreated images  \\\n",
       "0           5.0             5.0         NaN  2 weeks ago    NaN   \n",
       "1           3.0             5.0         NaN   a week ago    NaN   \n",
       "2           5.0             5.0         NaN   6 days ago    NaN   \n",
       "3           3.0             5.0         NaN   6 days ago    NaN   \n",
       "4           5.0             5.0         NaN   a week ago    NaN   \n",
       "\n",
       "                                           reviewUrl    reviewSource  \\\n",
       "0  https://www.google.com/maps/contrib/1180472233...  www.google.com   \n",
       "1  https://www.google.com/maps/contrib/1140921831...  www.google.com   \n",
       "2  https://www.google.com/maps/contrib/1071015506...  www.google.com   \n",
       "3  https://www.google.com/maps/contrib/1141925582...  www.google.com   \n",
       "4  https://www.google.com/maps/contrib/1082484853...  www.google.com   \n",
       "\n",
       "   orginalText                   name reviewCount  aggregateRating  \\\n",
       "0          NaN  Big Easy Canary Wharf       3,511              3.9   \n",
       "1          NaN  Big Easy Canary Wharf       3,511              3.9   \n",
       "2          NaN  Big Easy Canary Wharf       3,511              3.9   \n",
       "3          NaN  Big Easy Canary Wharf       3,511              3.9   \n",
       "4          NaN  Big Easy Canary Wharf       3,511              3.9   \n",
       "\n",
       "                                address                     place_id  \\\n",
       "0  Crossrail Pl, London, United Kingdom  ChIJj5YwFrcCdkgRZ7QcD-FJ2Zo   \n",
       "1  Crossrail Pl, London, United Kingdom  ChIJj5YwFrcCdkgRZ7QcD-FJ2Zo   \n",
       "2  Crossrail Pl, London, United Kingdom  ChIJj5YwFrcCdkgRZ7QcD-FJ2Zo   \n",
       "3  Crossrail Pl, London, United Kingdom  ChIJj5YwFrcCdkgRZ7QcD-FJ2Zo   \n",
       "4  Crossrail Pl, London, United Kingdom  ChIJj5YwFrcCdkgRZ7QcD-FJ2Zo   \n",
       "\n",
       "                                               input  \\\n",
       "0  https://www.google.com/maps/place/Big+Easy+Can...   \n",
       "1  https://www.google.com/maps/place/Big+Easy+Can...   \n",
       "2  https://www.google.com/maps/place/Big+Easy+Can...   \n",
       "3  https://www.google.com/maps/place/Big+Easy+Can...   \n",
       "4  https://www.google.com/maps/place/Big+Easy+Can...   \n",
       "\n",
       "                                         businessUrl  \n",
       "0  https://www.google.com/maps/place/?q=place_id:...  \n",
       "1  https://www.google.com/maps/place/?q=place_id:...  \n",
       "2  https://www.google.com/maps/place/?q=place_id:...  \n",
       "3  https://www.google.com/maps/place/?q=place_id:...  \n",
       "4  https://www.google.com/maps/place/?q=place_id:...  "
      ]
     },
     "execution_count": 58,
     "metadata": {},
     "output_type": "execute_result"
    }
   ],
   "source": [
    "df_big_easy = pd.read_excel('Reviews.xlsx')\n",
    "df_big_easy.head()"
   ]
  },
  {
   "cell_type": "code",
   "execution_count": 16,
   "id": "5000acd5",
   "metadata": {},
   "outputs": [
    {
     "data": {
      "text/plain": [
       "(100, 17)"
      ]
     },
     "execution_count": 16,
     "metadata": {},
     "output_type": "execute_result"
    }
   ],
   "source": [
    "df_big_easy.shape"
   ]
  },
  {
   "cell_type": "markdown",
   "id": "b601eabd",
   "metadata": {},
   "source": [
    "### Keep interesting columns, remove rows with review missing"
   ]
  },
  {
   "cell_type": "code",
   "execution_count": 113,
   "id": "2427c9fa",
   "metadata": {},
   "outputs": [
    {
     "name": "stdout",
     "output_type": "stream",
     "text": [
      "(69, 3)\n"
     ]
    },
    {
     "data": {
      "text/html": [
       "<div>\n",
       "<style scoped>\n",
       "    .dataframe tbody tr th:only-of-type {\n",
       "        vertical-align: middle;\n",
       "    }\n",
       "\n",
       "    .dataframe tbody tr th {\n",
       "        vertical-align: top;\n",
       "    }\n",
       "\n",
       "    .dataframe thead th {\n",
       "        text-align: right;\n",
       "    }\n",
       "</style>\n",
       "<table border=\"1\" class=\"dataframe\">\n",
       "  <thead>\n",
       "    <tr style=\"text-align: right;\">\n",
       "      <th></th>\n",
       "      <th>reviewBody</th>\n",
       "      <th>reviewRating</th>\n",
       "      <th>dateCreated</th>\n",
       "    </tr>\n",
       "  </thead>\n",
       "  <tbody>\n",
       "    <tr>\n",
       "      <th>1</th>\n",
       "      <td>Toda la comida muy buena.....servicio pesimo</td>\n",
       "      <td>3.0</td>\n",
       "      <td>a week ago</td>\n",
       "    </tr>\n",
       "    <tr>\n",
       "      <th>3</th>\n",
       "      <td>Food was lovely but service was bad. We waited...</td>\n",
       "      <td>3.0</td>\n",
       "      <td>6 days ago</td>\n",
       "    </tr>\n",
       "    <tr>\n",
       "      <th>4</th>\n",
       "      <td>Very tasty seafood platter.. Drinks were decen...</td>\n",
       "      <td>5.0</td>\n",
       "      <td>a week ago</td>\n",
       "    </tr>\n",
       "    <tr>\n",
       "      <th>6</th>\n",
       "      <td>I really would not recommend this restaurant. ...</td>\n",
       "      <td>2.0</td>\n",
       "      <td>a month ago</td>\n",
       "    </tr>\n",
       "    <tr>\n",
       "      <th>9</th>\n",
       "      <td>Was there for my wife's bday, the ambience was...</td>\n",
       "      <td>5.0</td>\n",
       "      <td>3 weeks ago</td>\n",
       "    </tr>\n",
       "  </tbody>\n",
       "</table>\n",
       "</div>"
      ],
      "text/plain": [
       "                                          reviewBody  reviewRating  \\\n",
       "1       Toda la comida muy buena.....servicio pesimo           3.0   \n",
       "3  Food was lovely but service was bad. We waited...           3.0   \n",
       "4  Very tasty seafood platter.. Drinks were decen...           5.0   \n",
       "6  I really would not recommend this restaurant. ...           2.0   \n",
       "9  Was there for my wife's bday, the ambience was...           5.0   \n",
       "\n",
       "   dateCreated  \n",
       "1   a week ago  \n",
       "3   6 days ago  \n",
       "4   a week ago  \n",
       "6  a month ago  \n",
       "9  3 weeks ago  "
      ]
     },
     "execution_count": 113,
     "metadata": {},
     "output_type": "execute_result"
    }
   ],
   "source": [
    "df_big_easy_clean = df_big_easy[['reviewBody', 'reviewRating', 'dateCreated']].copy(deep=True)\n",
    "df_big_easy_clean = df_big_easy_clean.dropna(subset=['reviewBody'])\n",
    "print(df_big_easy_clean.shape)\n",
    "df_big_easy_clean.head()"
   ]
  },
  {
   "cell_type": "markdown",
   "id": "0b51f418",
   "metadata": {},
   "source": [
    " "
   ]
  },
  {
   "cell_type": "markdown",
   "id": "77268193",
   "metadata": {},
   "source": [
    "### Date cleaning"
   ]
  },
  {
   "cell_type": "markdown",
   "id": "d59acdb7",
   "metadata": {},
   "source": [
    "Turn '1 week ago', '6 hours ago' etc. into dates"
   ]
  },
  {
   "cell_type": "code",
   "execution_count": 120,
   "id": "4adf79fb",
   "metadata": {},
   "outputs": [],
   "source": [
    "# Turn strings into dates\n",
    "def clean_date(string_date):\n",
    "    curr_date = datetime.now()\n",
    "    split_date = string_date.split(' ')\n",
    "\n",
    "    n = split_date[0]\n",
    "    n = 1 if n=='a' else int(n) # Replace 'a week ago' with '1 week ago'\n",
    "    \n",
    "    delta = split_date[1]\n",
    "    \n",
    "    # Check assumption that any n>1 must be plural\n",
    "    assert (n==1) or (n>1 and delta[-1]=='s')\n",
    "    \n",
    "    # Stip trailing 's' from delta\n",
    "    if n>1:\n",
    "        delta = delta[:-1]\n",
    "\n",
    "    if delta == 'year':\n",
    "        return curr_date - timedelta(days=365*n)\n",
    "    elif delta == 'month':\n",
    "        return curr_date - timedelta(days=30*n)\n",
    "    elif delta == 'week':\n",
    "        return curr_date - timedelta(weeks=n)\n",
    "    elif delta == 'day':\n",
    "        return curr_date - timedelta(days=n)\n",
    "    elif delta == 'hour':\n",
    "        return curr_date - timedelta(hours=n)\n",
    "    elif delta == 'minute':\n",
    "        return curr_date - timedelta(minutes=n)\n",
    "    elif delta == 'moment':\n",
    "        return curr_date - timedelta(seconds=n)\n",
    "    else:\n",
    "        raise ValueError(f'Unhandled delta type {delta}')"
   ]
  },
  {
   "cell_type": "code",
   "execution_count": 123,
   "id": "95d3b39e",
   "metadata": {},
   "outputs": [
    {
     "data": {
      "text/html": [
       "<div>\n",
       "<style scoped>\n",
       "    .dataframe tbody tr th:only-of-type {\n",
       "        vertical-align: middle;\n",
       "    }\n",
       "\n",
       "    .dataframe tbody tr th {\n",
       "        vertical-align: top;\n",
       "    }\n",
       "\n",
       "    .dataframe thead th {\n",
       "        text-align: right;\n",
       "    }\n",
       "</style>\n",
       "<table border=\"1\" class=\"dataframe\">\n",
       "  <thead>\n",
       "    <tr style=\"text-align: right;\">\n",
       "      <th></th>\n",
       "      <th>reviewBody</th>\n",
       "      <th>reviewRating</th>\n",
       "      <th>dateCreated</th>\n",
       "      <th>review_lower_alpha</th>\n",
       "      <th>date_clean</th>\n",
       "    </tr>\n",
       "  </thead>\n",
       "  <tbody>\n",
       "    <tr>\n",
       "      <th>1</th>\n",
       "      <td>Toda la comida muy buena.....servicio pesimo</td>\n",
       "      <td>3.0</td>\n",
       "      <td>a week ago</td>\n",
       "      <td>toda la comida muy buenaservicio pesimo</td>\n",
       "      <td>2021-07-21</td>\n",
       "    </tr>\n",
       "    <tr>\n",
       "      <th>3</th>\n",
       "      <td>Food was lovely but service was bad. We waited...</td>\n",
       "      <td>3.0</td>\n",
       "      <td>6 days ago</td>\n",
       "      <td>food was lovely but service was bad we waited ...</td>\n",
       "      <td>2021-07-22</td>\n",
       "    </tr>\n",
       "    <tr>\n",
       "      <th>4</th>\n",
       "      <td>Very tasty seafood platter.. Drinks were decen...</td>\n",
       "      <td>5.0</td>\n",
       "      <td>a week ago</td>\n",
       "      <td>very tasty seafood platter drinks were decent ...</td>\n",
       "      <td>2021-07-21</td>\n",
       "    </tr>\n",
       "    <tr>\n",
       "      <th>6</th>\n",
       "      <td>I really would not recommend this restaurant. ...</td>\n",
       "      <td>2.0</td>\n",
       "      <td>a month ago</td>\n",
       "      <td>i really would not recommend this restaurant w...</td>\n",
       "      <td>2021-06-28</td>\n",
       "    </tr>\n",
       "    <tr>\n",
       "      <th>9</th>\n",
       "      <td>Was there for my wife's bday, the ambience was...</td>\n",
       "      <td>5.0</td>\n",
       "      <td>3 weeks ago</td>\n",
       "      <td>was there for my wifes bday the ambience was n...</td>\n",
       "      <td>2021-07-07</td>\n",
       "    </tr>\n",
       "  </tbody>\n",
       "</table>\n",
       "</div>"
      ],
      "text/plain": [
       "                                          reviewBody  reviewRating  \\\n",
       "1       Toda la comida muy buena.....servicio pesimo           3.0   \n",
       "3  Food was lovely but service was bad. We waited...           3.0   \n",
       "4  Very tasty seafood platter.. Drinks were decen...           5.0   \n",
       "6  I really would not recommend this restaurant. ...           2.0   \n",
       "9  Was there for my wife's bday, the ambience was...           5.0   \n",
       "\n",
       "   dateCreated                                 review_lower_alpha date_clean  \n",
       "1   a week ago            toda la comida muy buenaservicio pesimo 2021-07-21  \n",
       "3   6 days ago  food was lovely but service was bad we waited ... 2021-07-22  \n",
       "4   a week ago  very tasty seafood platter drinks were decent ... 2021-07-21  \n",
       "6  a month ago  i really would not recommend this restaurant w... 2021-06-28  \n",
       "9  3 weeks ago  was there for my wifes bday the ambience was n... 2021-07-07  "
      ]
     },
     "execution_count": 123,
     "metadata": {},
     "output_type": "execute_result"
    }
   ],
   "source": [
    "df_big_easy_clean['date_clean'] = df_big_easy_clean['dateCreated'].apply(lambda d: clean_date(d)).astype('datetime64[D]')\n",
    "df_big_easy_clean.head()"
   ]
  },
  {
   "cell_type": "markdown",
   "id": "155ab584",
   "metadata": {},
   "source": [
    " "
   ]
  },
  {
   "cell_type": "markdown",
   "id": "839654e0",
   "metadata": {},
   "source": [
    "### Language cleaning"
   ]
  },
  {
   "cell_type": "markdown",
   "id": "421d34e2",
   "metadata": {},
   "source": [
    "Only keep English reviews (run the below if you need to download corpus)."
   ]
  },
  {
   "cell_type": "code",
   "execution_count": 114,
   "id": "fe108108",
   "metadata": {},
   "outputs": [],
   "source": [
    "# try:\n",
    "#     _create_unverified_https_context = ssl._create_unverified_context\n",
    "# except AttributeError:\n",
    "#     pass\n",
    "# else:\n",
    "#     ssl._create_default_https_context = _create_unverified_https_context\n",
    "\n",
    "# nltk.download()"
   ]
  },
  {
   "cell_type": "markdown",
   "id": "47da26b4",
   "metadata": {},
   "source": [
    "Start by cleaning text"
   ]
  },
  {
   "cell_type": "code",
   "execution_count": 115,
   "id": "9867782c",
   "metadata": {
    "scrolled": true
   },
   "outputs": [
    {
     "data": {
      "text/html": [
       "<div>\n",
       "<style scoped>\n",
       "    .dataframe tbody tr th:only-of-type {\n",
       "        vertical-align: middle;\n",
       "    }\n",
       "\n",
       "    .dataframe tbody tr th {\n",
       "        vertical-align: top;\n",
       "    }\n",
       "\n",
       "    .dataframe thead th {\n",
       "        text-align: right;\n",
       "    }\n",
       "</style>\n",
       "<table border=\"1\" class=\"dataframe\">\n",
       "  <thead>\n",
       "    <tr style=\"text-align: right;\">\n",
       "      <th></th>\n",
       "      <th>reviewBody</th>\n",
       "      <th>reviewRating</th>\n",
       "      <th>dateCreated</th>\n",
       "      <th>review_lower_alpha</th>\n",
       "    </tr>\n",
       "  </thead>\n",
       "  <tbody>\n",
       "    <tr>\n",
       "      <th>1</th>\n",
       "      <td>Toda la comida muy buena.....servicio pesimo</td>\n",
       "      <td>3.0</td>\n",
       "      <td>a week ago</td>\n",
       "      <td>toda la comida muy buenaservicio pesimo</td>\n",
       "    </tr>\n",
       "    <tr>\n",
       "      <th>3</th>\n",
       "      <td>Food was lovely but service was bad. We waited...</td>\n",
       "      <td>3.0</td>\n",
       "      <td>6 days ago</td>\n",
       "      <td>food was lovely but service was bad we waited ...</td>\n",
       "    </tr>\n",
       "    <tr>\n",
       "      <th>4</th>\n",
       "      <td>Very tasty seafood platter.. Drinks were decen...</td>\n",
       "      <td>5.0</td>\n",
       "      <td>a week ago</td>\n",
       "      <td>very tasty seafood platter drinks were decent ...</td>\n",
       "    </tr>\n",
       "    <tr>\n",
       "      <th>6</th>\n",
       "      <td>I really would not recommend this restaurant. ...</td>\n",
       "      <td>2.0</td>\n",
       "      <td>a month ago</td>\n",
       "      <td>i really would not recommend this restaurant w...</td>\n",
       "    </tr>\n",
       "    <tr>\n",
       "      <th>9</th>\n",
       "      <td>Was there for my wife's bday, the ambience was...</td>\n",
       "      <td>5.0</td>\n",
       "      <td>3 weeks ago</td>\n",
       "      <td>was there for my wifes bday the ambience was n...</td>\n",
       "    </tr>\n",
       "  </tbody>\n",
       "</table>\n",
       "</div>"
      ],
      "text/plain": [
       "                                          reviewBody  reviewRating  \\\n",
       "1       Toda la comida muy buena.....servicio pesimo           3.0   \n",
       "3  Food was lovely but service was bad. We waited...           3.0   \n",
       "4  Very tasty seafood platter.. Drinks were decen...           5.0   \n",
       "6  I really would not recommend this restaurant. ...           2.0   \n",
       "9  Was there for my wife's bday, the ambience was...           5.0   \n",
       "\n",
       "   dateCreated                                 review_lower_alpha  \n",
       "1   a week ago            toda la comida muy buenaservicio pesimo  \n",
       "3   6 days ago  food was lovely but service was bad we waited ...  \n",
       "4   a week ago  very tasty seafood platter drinks were decent ...  \n",
       "6  a month ago  i really would not recommend this restaurant w...  \n",
       "9  3 weeks ago  was there for my wifes bday the ambience was n...  "
      ]
     },
     "execution_count": 115,
     "metadata": {},
     "output_type": "execute_result"
    }
   ],
   "source": [
    "def clean_text(text):\n",
    "    \n",
    "    tokens = text.split(' ')\n",
    "    tokens_lower = [t.lower() for t in tokens]\n",
    "    tokens_alpha = [re.sub('[^A-z]', '', t) for t in tokens_lower]\n",
    "    text_clean = ' '.join(tokens_alpha)\n",
    "    \n",
    "    return text_clean\n",
    "    \n",
    "\n",
    "df_big_easy_clean['review_lower_alpha'] = df_big_easy_clean.apply(lambda row: clean_text(row['reviewBody']),\n",
    "                                                                  axis=1)\n",
    "\n",
    "df_big_easy_clean.head()"
   ]
  },
  {
   "cell_type": "markdown",
   "id": "84f4f5f2",
   "metadata": {},
   "source": [
    "Then check how many words are in English corpus."
   ]
  },
  {
   "cell_type": "code",
   "execution_count": 116,
   "id": "b8f16384",
   "metadata": {},
   "outputs": [],
   "source": [
    "eng_words = words.words('en')\n",
    "eng_words_lower = [w.lower() for w in eng_words]"
   ]
  },
  {
   "cell_type": "code",
   "execution_count": 117,
   "id": "b0a4a78f",
   "metadata": {},
   "outputs": [],
   "source": [
    "from nltk.corpus import stopwords\n",
    "# nltk.download('stopwords')\n",
    "sw = stopwords.words('english')"
   ]
  },
  {
   "cell_type": "code",
   "execution_count": 118,
   "id": "2ed8fd9a",
   "metadata": {},
   "outputs": [
    {
     "data": {
      "text/html": [
       "<div>\n",
       "<style scoped>\n",
       "    .dataframe tbody tr th:only-of-type {\n",
       "        vertical-align: middle;\n",
       "    }\n",
       "\n",
       "    .dataframe tbody tr th {\n",
       "        vertical-align: top;\n",
       "    }\n",
       "\n",
       "    .dataframe thead th {\n",
       "        text-align: right;\n",
       "    }\n",
       "</style>\n",
       "<table border=\"1\" class=\"dataframe\">\n",
       "  <thead>\n",
       "    <tr style=\"text-align: right;\">\n",
       "      <th></th>\n",
       "      <th>reviewBody</th>\n",
       "      <th>reviewRating</th>\n",
       "      <th>dateCreated</th>\n",
       "      <th>review_clean</th>\n",
       "    </tr>\n",
       "  </thead>\n",
       "  <tbody>\n",
       "    <tr>\n",
       "      <th>3</th>\n",
       "      <td>Food was lovely but service was bad. We waited...</td>\n",
       "      <td>3.0</td>\n",
       "      <td>6 days ago</td>\n",
       "      <td>food lovely service bad waited ages one really...</td>\n",
       "    </tr>\n",
       "    <tr>\n",
       "      <th>4</th>\n",
       "      <td>Very tasty seafood platter.. Drinks were decen...</td>\n",
       "      <td>5.0</td>\n",
       "      <td>a week ago</td>\n",
       "      <td>tasty seafood platter drinks decent well great...</td>\n",
       "    </tr>\n",
       "    <tr>\n",
       "      <th>6</th>\n",
       "      <td>I really would not recommend this restaurant. ...</td>\n",
       "      <td>2.0</td>\n",
       "      <td>a month ago</td>\n",
       "      <td>really would recommend restaurant fussy eaters...</td>\n",
       "    </tr>\n",
       "    <tr>\n",
       "      <th>9</th>\n",
       "      <td>Was there for my wife's bday, the ambience was...</td>\n",
       "      <td>5.0</td>\n",
       "      <td>3 weeks ago</td>\n",
       "      <td>wifes bday ambience nice luckily got seat wind...</td>\n",
       "    </tr>\n",
       "    <tr>\n",
       "      <th>12</th>\n",
       "      <td>today in your service I got a cold dish, someo...</td>\n",
       "      <td>1.0</td>\n",
       "      <td>3 weeks ago</td>\n",
       "      <td>today service got cold dish someone mistook sa...</td>\n",
       "    </tr>\n",
       "  </tbody>\n",
       "</table>\n",
       "</div>"
      ],
      "text/plain": [
       "                                           reviewBody  reviewRating  \\\n",
       "3   Food was lovely but service was bad. We waited...           3.0   \n",
       "4   Very tasty seafood platter.. Drinks were decen...           5.0   \n",
       "6   I really would not recommend this restaurant. ...           2.0   \n",
       "9   Was there for my wife's bday, the ambience was...           5.0   \n",
       "12  today in your service I got a cold dish, someo...           1.0   \n",
       "\n",
       "    dateCreated                                       review_clean  \n",
       "3    6 days ago  food lovely service bad waited ages one really...  \n",
       "4    a week ago  tasty seafood platter drinks decent well great...  \n",
       "6   a month ago  really would recommend restaurant fussy eaters...  \n",
       "9   3 weeks ago  wifes bday ambience nice luckily got seat wind...  \n",
       "12  3 weeks ago  today service got cold dish someone mistook sa...  "
      ]
     },
     "execution_count": 118,
     "metadata": {},
     "output_type": "execute_result"
    }
   ],
   "source": [
    "df_big_easy_eng = df_big_easy_clean.copy(deep=True)\n",
    "\n",
    "# Assume any review where > 50% of first 10 words are in English corpus, is an English review\n",
    "def pct_review_words_in_eng_corpus(text):\n",
    "    \n",
    "    tokens = text.split(' ')[:10]\n",
    "    n_tokens = len(tokens)\n",
    "    tokens_in_eng_corpus = np.sum([1 if t in eng_words_lower else 0 for t in tokens])\n",
    "    \n",
    "    return float(tokens_in_eng_corpus)/n_tokens\n",
    "\n",
    "\n",
    "df_big_easy_eng['is_english'] = df_big_easy_eng.apply(lambda row: pct_review_words_in_eng_corpus(row['review_lower_alpha']) >= 0.5,\n",
    "                                                      axis=1)\n",
    "\n",
    "# Drop rows\n",
    "df_big_easy_eng = df_big_easy_eng[df_big_easy_eng['is_english']==True].drop(['is_english'], axis=1)\n",
    "\n",
    "# Then remove stopwords\n",
    "def remove_stopwords(text):\n",
    "    \n",
    "    tokens = text.split(' ')\n",
    "    tokens_no_sw = [t for t in tokens if t not in sw]\n",
    "    \n",
    "    return ' '.join(tokens_no_sw)\n",
    "\n",
    "df_big_easy_eng['review_clean'] = df_big_easy_eng['review_lower_alpha'].apply(lambda t: remove_stopwords(t))\n",
    "df_big_easy_eng = df_big_easy_eng.drop('review_lower_alpha', axis=1)\n",
    "\n",
    "df_big_easy_eng.head()"
   ]
  },
  {
   "cell_type": "markdown",
   "id": "4576f2d2",
   "metadata": {},
   "source": [
    " "
   ]
  },
  {
   "cell_type": "markdown",
   "id": "5e99da50",
   "metadata": {},
   "source": [
    " "
   ]
  },
  {
   "cell_type": "markdown",
   "id": "edb7f190",
   "metadata": {},
   "source": [
    "### Analysis"
   ]
  },
  {
   "cell_type": "code",
   "execution_count": 102,
   "id": "c5fc764d",
   "metadata": {},
   "outputs": [
    {
     "data": {
      "text/plain": [
       "<AxesSubplot:xlabel='reviewRating', ylabel='count'>"
      ]
     },
     "execution_count": 102,
     "metadata": {},
     "output_type": "execute_result"
    },
    {
     "data": {
      "image/png": "[encoded data removed]",
      "text/plain": [
       "<Figure size 432x288 with 1 Axes>"
      ]
     },
     "metadata": {
      "needs_background": "light"
     },
     "output_type": "display_data"
    }
   ],
   "source": [
    "sns.countplot(data=df_big_easy_eng,\n",
    "              x='reviewRating',\n",
    "              palette='Blues')"
   ]
  },
  {
   "cell_type": "markdown",
   "id": "09388b81",
   "metadata": {},
   "source": [
    "Reviews appear to be fairly polarised, with 1/2/5 starts being the most common - and little inbetween"
   ]
  },
  {
   "cell_type": "code",
   "execution_count": 104,
   "id": "5da3c63f",
   "metadata": {},
   "outputs": [
    {
     "data": {
      "image/png": "[encoded data removed]",
      "text/plain": [
       "<Figure size 864x1080 with 3 Axes>"
      ]
     },
     "metadata": {
      "needs_background": "light"
     },
     "output_type": "display_data"
    }
   ],
   "source": [
    "from sklearn.feature_extraction.text import CountVectorizer\n",
    "\n",
    "fig, axs = plt.subplots(nrows=1, ncols=3, figsize=(12,15),\n",
    "                        constrained_layout=True)\n",
    "\n",
    "# Bucket reviews into 1-2 stars, 3-4 stars, and 5 stars\n",
    "review_buckets = {0: [1, 2], \n",
    "                  1: [3, 4], \n",
    "                  2: [5, 5]}\n",
    "\n",
    "for i in range(2):\n",
    "    \n",
    "    # Get review bucket\n",
    "    rev_min, rev_max = review_buckets[i]\n",
    "    \n",
    "    # Filter for certain reviews\n",
    "    df_filt = df_big_easy_eng.query(f'reviewRating>={rev_min} and reviewRating<={rev_max}')\n",
    "    \n",
    "    # Set up vectorizer\n",
    "    C = CountVectorizer(ngram_range=(2,2),\n",
    "                        max_df=1.0,\n",
    "                        min_df=2,\n",
    "                        stop_words='english')\n",
    "    \n",
    "    # Get counts\n",
    "    res = C.fit_transform(df_filt['review_clean'])\n",
    "    \n",
    "    # Set up dataframe\n",
    "    df_res = pd.DataFrame(data=res.todense(),\n",
    "                          columns=C.get_feature_names())\n",
    "    \n",
    "\n",
    "    # Turn into plottable format\n",
    "    df_plot = df_res.T.apply(lambda row: np.sum(row), axis=1).sort_values(ascending=False).reset_index()\n",
    "    \n",
    "    # Plot\n",
    "    sns.barplot(data=df_plot,\n",
    "                # When you use reset_index() on a series, you end up with index and 0 as column names\n",
    "                x=0,\n",
    "                y='index',\n",
    "                ax=axs[i])\n",
    "    \n",
    "    if rev_min == rev_max:\n",
    "        title_stars = f'{rev_min} star'\n",
    "    else:\n",
    "        title_stars = f'{rev_min}-{rev_max} star'\n",
    "    \n",
    "    axs[i].set_title(f'Most common terms in {title_stars} reviews')"
   ]
  }
 ],
 "metadata": {
  "kernelspec": {
   "display_name": "Python 3 (ipykernel)",
   "language": "python",
   "name": "python3"
  },
  "language_info": {
   "codemirror_mode": {
    "name": "ipython",
    "version": 3
   },
   "file_extension": ".py",
   "mimetype": "text/x-python",
   "name": "python",
   "nbconvert_exporter": "python",
   "pygments_lexer": "ipython3",
   "version": "3.7.6"
  }
 },
 "nbformat": 4,
 "nbformat_minor": 5
}
